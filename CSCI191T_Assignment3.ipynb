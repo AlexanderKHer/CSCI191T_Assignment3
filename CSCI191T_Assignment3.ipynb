{
 "cells": [
  {
   "cell_type": "markdown",
   "id": "041f99ff",
   "metadata": {},
   "source": [
    "Iris Dataset"
   ]
  },
  {
   "cell_type": "code",
   "execution_count": 14,
   "id": "6f4401e6",
   "metadata": {
    "scrolled": true
   },
   "outputs": [
    {
     "name": "stdout",
     "output_type": "stream",
     "text": [
      "Found existing installation: scikit-learn 1.0.1\n",
      "Uninstalling scikit-learn-1.0.1:\n",
      "  Successfully uninstalled scikit-learn-1.0.1\n",
      "Collecting scikit-learn\n",
      "  Using cached scikit_learn-1.0.1-cp38-cp38-win_amd64.whl (7.2 MB)\n",
      "Requirement already satisfied: numpy>=1.14.6 in c:\\users\\alex\\anaconda3\\lib\\site-packages (from scikit-learn) (1.20.1)\n",
      "Requirement already satisfied: threadpoolctl>=2.0.0 in c:\\users\\alex\\anaconda3\\lib\\site-packages (from scikit-learn) (2.1.0)\n",
      "Requirement already satisfied: scipy>=1.1.0 in c:\\users\\alex\\anaconda3\\lib\\site-packages (from scikit-learn) (1.6.2)\n",
      "Requirement already satisfied: joblib>=0.11 in c:\\users\\alex\\anaconda3\\lib\\site-packages (from scikit-learn) (1.0.1)\n",
      "Installing collected packages: scikit-learn\n",
      "Successfully installed scikit-learn-1.0.1\n"
     ]
    }
   ],
   "source": [
    "!pip uninstall scikit-learn -y \n",
    "!pip install -U scikit-learn   "
   ]
  },
  {
   "cell_type": "markdown",
   "id": "e24b33d8",
   "metadata": {},
   "source": [
    "Libraries and Function instantiations"
   ]
  },
  {
   "cell_type": "code",
   "execution_count": 17,
   "id": "c918b0cd",
   "metadata": {},
   "outputs": [],
   "source": [
    "import pandas as pd\n",
    "import numpy as np\n",
    "import io\n",
    "import csv\n",
    "\n",
    "\n",
    "# below I have instantiated the required functions that we will need\n",
    "\n",
    "def F(W,X):\n",
    "  return sum([w*x for w,x in zip(W,X)])\n",
    "\n",
    "def sigmoid(x):\n",
    "  return 1.0/(1+math.exp(-x))\n",
    "\n",
    "def classify(model, X): # Uses model to classify list of x values [(x0, x1, x2),...] into either 1 (positive) or 0 (negative).\n",
    "  return [1 if sigmoid(F(model, x)) > 0.5 else 0 for x in X]"
   ]
  },
  {
   "cell_type": "markdown",
   "id": "e029b420",
   "metadata": {},
   "source": [
    "Reading in our csv file using pandas library"
   ]
  },
  {
   "cell_type": "code",
   "execution_count": 24,
   "id": "57dae8dd",
   "metadata": {
    "scrolled": true
   },
   "outputs": [
    {
     "name": "stdout",
     "output_type": "stream",
     "text": [
      "     Sepal Length  Sepal Width  Petal Length  Petal Width           Class\n",
      "0             5.1          3.5           1.4          0.2     Iris-setosa\n",
      "1             4.9          3.0           1.4          0.2     Iris-setosa\n",
      "2             4.7          3.2           1.3          0.2     Iris-setosa\n",
      "3             4.6          3.1           1.5          0.2     Iris-setosa\n",
      "4             5.0          3.6           1.4          0.2     Iris-setosa\n",
      "..            ...          ...           ...          ...             ...\n",
      "145           6.7          3.0           5.2          2.3  Iris-virginica\n",
      "146           6.3          2.5           5.0          1.9  Iris-virginica\n",
      "147           6.5          3.0           5.2          2.0  Iris-virginica\n",
      "148           6.2          3.4           5.4          2.3  Iris-virginica\n",
      "149           5.9          3.0           5.1          1.8  Iris-virginica\n",
      "\n",
      "[150 rows x 5 columns]\n"
     ]
    }
   ],
   "source": [
    "data = pd.read_csv('https://raw.githubusercontent.com/AlexanderKHer/CSCI191T/main/datasets/iris.data.csv', names=[\"Sepal Length\", \"Sepal Width\", \"Petal Length\", \"Petal Width\", \"Class\"])\n",
    "print(data)"
   ]
  },
  {
   "cell_type": "markdown",
   "id": "f594cfb5",
   "metadata": {},
   "source": [
    "Converting dataframe to a normal list"
   ]
  },
  {
   "cell_type": "code",
   "execution_count": 25,
   "id": "a874b819",
   "metadata": {},
   "outputs": [
    {
     "name": "stdout",
     "output_type": "stream",
     "text": [
      "[[5.1, 3.5, 1.4, 0.2, 'Iris-setosa'], [4.9, 3.0, 1.4, 0.2, 'Iris-setosa'], [4.7, 3.2, 1.3, 0.2, 'Iris-setosa'], [4.6, 3.1, 1.5, 0.2, 'Iris-setosa'], [5.0, 3.6, 1.4, 0.2, 'Iris-setosa'], [5.4, 3.9, 1.7, 0.4, 'Iris-setosa'], [4.6, 3.4, 1.4, 0.3, 'Iris-setosa'], [5.0, 3.4, 1.5, 0.2, 'Iris-setosa'], [4.4, 2.9, 1.4, 0.2, 'Iris-setosa'], [4.9, 3.1, 1.5, 0.1, 'Iris-setosa'], [5.4, 3.7, 1.5, 0.2, 'Iris-setosa'], [4.8, 3.4, 1.6, 0.2, 'Iris-setosa'], [4.8, 3.0, 1.4, 0.1, 'Iris-setosa'], [4.3, 3.0, 1.1, 0.1, 'Iris-setosa'], [5.8, 4.0, 1.2, 0.2, 'Iris-setosa'], [5.7, 4.4, 1.5, 0.4, 'Iris-setosa'], [5.4, 3.9, 1.3, 0.4, 'Iris-setosa'], [5.1, 3.5, 1.4, 0.3, 'Iris-setosa'], [5.7, 3.8, 1.7, 0.3, 'Iris-setosa'], [5.1, 3.8, 1.5, 0.3, 'Iris-setosa'], [5.4, 3.4, 1.7, 0.2, 'Iris-setosa'], [5.1, 3.7, 1.5, 0.4, 'Iris-setosa'], [4.6, 3.6, 1.0, 0.2, 'Iris-setosa'], [5.1, 3.3, 1.7, 0.5, 'Iris-setosa'], [4.8, 3.4, 1.9, 0.2, 'Iris-setosa'], [5.0, 3.0, 1.6, 0.2, 'Iris-setosa'], [5.0, 3.4, 1.6, 0.4, 'Iris-setosa'], [5.2, 3.5, 1.5, 0.2, 'Iris-setosa'], [5.2, 3.4, 1.4, 0.2, 'Iris-setosa'], [4.7, 3.2, 1.6, 0.2, 'Iris-setosa'], [4.8, 3.1, 1.6, 0.2, 'Iris-setosa'], [5.4, 3.4, 1.5, 0.4, 'Iris-setosa'], [5.2, 4.1, 1.5, 0.1, 'Iris-setosa'], [5.5, 4.2, 1.4, 0.2, 'Iris-setosa'], [4.9, 3.1, 1.5, 0.1, 'Iris-setosa'], [5.0, 3.2, 1.2, 0.2, 'Iris-setosa'], [5.5, 3.5, 1.3, 0.2, 'Iris-setosa'], [4.9, 3.1, 1.5, 0.1, 'Iris-setosa'], [4.4, 3.0, 1.3, 0.2, 'Iris-setosa'], [5.1, 3.4, 1.5, 0.2, 'Iris-setosa'], [5.0, 3.5, 1.3, 0.3, 'Iris-setosa'], [4.5, 2.3, 1.3, 0.3, 'Iris-setosa'], [4.4, 3.2, 1.3, 0.2, 'Iris-setosa'], [5.0, 3.5, 1.6, 0.6, 'Iris-setosa'], [5.1, 3.8, 1.9, 0.4, 'Iris-setosa'], [4.8, 3.0, 1.4, 0.3, 'Iris-setosa'], [5.1, 3.8, 1.6, 0.2, 'Iris-setosa'], [4.6, 3.2, 1.4, 0.2, 'Iris-setosa'], [5.3, 3.7, 1.5, 0.2, 'Iris-setosa'], [5.0, 3.3, 1.4, 0.2, 'Iris-setosa'], [7.0, 3.2, 4.7, 1.4, 'Iris-versicolor'], [6.4, 3.2, 4.5, 1.5, 'Iris-versicolor'], [6.9, 3.1, 4.9, 1.5, 'Iris-versicolor'], [5.5, 2.3, 4.0, 1.3, 'Iris-versicolor'], [6.5, 2.8, 4.6, 1.5, 'Iris-versicolor'], [5.7, 2.8, 4.5, 1.3, 'Iris-versicolor'], [6.3, 3.3, 4.7, 1.6, 'Iris-versicolor'], [4.9, 2.4, 3.3, 1.0, 'Iris-versicolor'], [6.6, 2.9, 4.6, 1.3, 'Iris-versicolor'], [5.2, 2.7, 3.9, 1.4, 'Iris-versicolor'], [5.0, 2.0, 3.5, 1.0, 'Iris-versicolor'], [5.9, 3.0, 4.2, 1.5, 'Iris-versicolor'], [6.0, 2.2, 4.0, 1.0, 'Iris-versicolor'], [6.1, 2.9, 4.7, 1.4, 'Iris-versicolor'], [5.6, 2.9, 3.6, 1.3, 'Iris-versicolor'], [6.7, 3.1, 4.4, 1.4, 'Iris-versicolor'], [5.6, 3.0, 4.5, 1.5, 'Iris-versicolor'], [5.8, 2.7, 4.1, 1.0, 'Iris-versicolor'], [6.2, 2.2, 4.5, 1.5, 'Iris-versicolor'], [5.6, 2.5, 3.9, 1.1, 'Iris-versicolor'], [5.9, 3.2, 4.8, 1.8, 'Iris-versicolor'], [6.1, 2.8, 4.0, 1.3, 'Iris-versicolor'], [6.3, 2.5, 4.9, 1.5, 'Iris-versicolor'], [6.1, 2.8, 4.7, 1.2, 'Iris-versicolor'], [6.4, 2.9, 4.3, 1.3, 'Iris-versicolor'], [6.6, 3.0, 4.4, 1.4, 'Iris-versicolor'], [6.8, 2.8, 4.8, 1.4, 'Iris-versicolor'], [6.7, 3.0, 5.0, 1.7, 'Iris-versicolor'], [6.0, 2.9, 4.5, 1.5, 'Iris-versicolor'], [5.7, 2.6, 3.5, 1.0, 'Iris-versicolor'], [5.5, 2.4, 3.8, 1.1, 'Iris-versicolor'], [5.5, 2.4, 3.7, 1.0, 'Iris-versicolor'], [5.8, 2.7, 3.9, 1.2, 'Iris-versicolor'], [6.0, 2.7, 5.1, 1.6, 'Iris-versicolor'], [5.4, 3.0, 4.5, 1.5, 'Iris-versicolor'], [6.0, 3.4, 4.5, 1.6, 'Iris-versicolor'], [6.7, 3.1, 4.7, 1.5, 'Iris-versicolor'], [6.3, 2.3, 4.4, 1.3, 'Iris-versicolor'], [5.6, 3.0, 4.1, 1.3, 'Iris-versicolor'], [5.5, 2.5, 4.0, 1.3, 'Iris-versicolor'], [5.5, 2.6, 4.4, 1.2, 'Iris-versicolor'], [6.1, 3.0, 4.6, 1.4, 'Iris-versicolor'], [5.8, 2.6, 4.0, 1.2, 'Iris-versicolor'], [5.0, 2.3, 3.3, 1.0, 'Iris-versicolor'], [5.6, 2.7, 4.2, 1.3, 'Iris-versicolor'], [5.7, 3.0, 4.2, 1.2, 'Iris-versicolor'], [5.7, 2.9, 4.2, 1.3, 'Iris-versicolor'], [6.2, 2.9, 4.3, 1.3, 'Iris-versicolor'], [5.1, 2.5, 3.0, 1.1, 'Iris-versicolor'], [5.7, 2.8, 4.1, 1.3, 'Iris-versicolor'], [6.3, 3.3, 6.0, 2.5, 'Iris-virginica'], [5.8, 2.7, 5.1, 1.9, 'Iris-virginica'], [7.1, 3.0, 5.9, 2.1, 'Iris-virginica'], [6.3, 2.9, 5.6, 1.8, 'Iris-virginica'], [6.5, 3.0, 5.8, 2.2, 'Iris-virginica'], [7.6, 3.0, 6.6, 2.1, 'Iris-virginica'], [4.9, 2.5, 4.5, 1.7, 'Iris-virginica'], [7.3, 2.9, 6.3, 1.8, 'Iris-virginica'], [6.7, 2.5, 5.8, 1.8, 'Iris-virginica'], [7.2, 3.6, 6.1, 2.5, 'Iris-virginica'], [6.5, 3.2, 5.1, 2.0, 'Iris-virginica'], [6.4, 2.7, 5.3, 1.9, 'Iris-virginica'], [6.8, 3.0, 5.5, 2.1, 'Iris-virginica'], [5.7, 2.5, 5.0, 2.0, 'Iris-virginica'], [5.8, 2.8, 5.1, 2.4, 'Iris-virginica'], [6.4, 3.2, 5.3, 2.3, 'Iris-virginica'], [6.5, 3.0, 5.5, 1.8, 'Iris-virginica'], [7.7, 3.8, 6.7, 2.2, 'Iris-virginica'], [7.7, 2.6, 6.9, 2.3, 'Iris-virginica'], [6.0, 2.2, 5.0, 1.5, 'Iris-virginica'], [6.9, 3.2, 5.7, 2.3, 'Iris-virginica'], [5.6, 2.8, 4.9, 2.0, 'Iris-virginica'], [7.7, 2.8, 6.7, 2.0, 'Iris-virginica'], [6.3, 2.7, 4.9, 1.8, 'Iris-virginica'], [6.7, 3.3, 5.7, 2.1, 'Iris-virginica'], [7.2, 3.2, 6.0, 1.8, 'Iris-virginica'], [6.2, 2.8, 4.8, 1.8, 'Iris-virginica'], [6.1, 3.0, 4.9, 1.8, 'Iris-virginica'], [6.4, 2.8, 5.6, 2.1, 'Iris-virginica'], [7.2, 3.0, 5.8, 1.6, 'Iris-virginica'], [7.4, 2.8, 6.1, 1.9, 'Iris-virginica'], [7.9, 3.8, 6.4, 2.0, 'Iris-virginica'], [6.4, 2.8, 5.6, 2.2, 'Iris-virginica'], [6.3, 2.8, 5.1, 1.5, 'Iris-virginica'], [6.1, 2.6, 5.6, 1.4, 'Iris-virginica'], [7.7, 3.0, 6.1, 2.3, 'Iris-virginica'], [6.3, 3.4, 5.6, 2.4, 'Iris-virginica'], [6.4, 3.1, 5.5, 1.8, 'Iris-virginica'], [6.0, 3.0, 4.8, 1.8, 'Iris-virginica'], [6.9, 3.1, 5.4, 2.1, 'Iris-virginica'], [6.7, 3.1, 5.6, 2.4, 'Iris-virginica'], [6.9, 3.1, 5.1, 2.3, 'Iris-virginica'], [5.8, 2.7, 5.1, 1.9, 'Iris-virginica'], [6.8, 3.2, 5.9, 2.3, 'Iris-virginica'], [6.7, 3.3, 5.7, 2.5, 'Iris-virginica'], [6.7, 3.0, 5.2, 2.3, 'Iris-virginica'], [6.3, 2.5, 5.0, 1.9, 'Iris-virginica'], [6.5, 3.0, 5.2, 2.0, 'Iris-virginica'], [6.2, 3.4, 5.4, 2.3, 'Iris-virginica'], [5.9, 3.0, 5.1, 1.8, 'Iris-virginica']]\n"
     ]
    }
   ],
   "source": [
    "data = data.values.tolist()\n",
    "print(data)"
   ]
  },
  {
   "cell_type": "markdown",
   "id": "1579d71e",
   "metadata": {},
   "source": [
    "### Linear Regression"
   ]
  },
  {
   "cell_type": "markdown",
   "id": "f9a709e7",
   "metadata": {},
   "source": [
    "Using Linear Regression I will create a model that predicts the pedal width based off the other features (sepal length, sepal width, and petal length) "
   ]
  },
  {
   "cell_type": "code",
   "execution_count": 28,
   "id": "ea2a8c07",
   "metadata": {
    "scrolled": true
   },
   "outputs": [
    {
     "name": "stdout",
     "output_type": "stream",
     "text": [
      "[((1, 5.1, 3.5, 0.2, 'Iris-setosa'), 1.4), ((1, 4.9, 3.0, 0.2, 'Iris-setosa'), 1.4), ((1, 4.7, 3.2, 0.2, 'Iris-setosa'), 1.3), ((1, 4.6, 3.1, 0.2, 'Iris-setosa'), 1.5), ((1, 5.0, 3.6, 0.2, 'Iris-setosa'), 1.4), ((1, 5.4, 3.9, 0.4, 'Iris-setosa'), 1.7), ((1, 4.6, 3.4, 0.3, 'Iris-setosa'), 1.4), ((1, 5.0, 3.4, 0.2, 'Iris-setosa'), 1.5), ((1, 4.4, 2.9, 0.2, 'Iris-setosa'), 1.4), ((1, 4.9, 3.1, 0.1, 'Iris-setosa'), 1.5), ((1, 5.4, 3.7, 0.2, 'Iris-setosa'), 1.5), ((1, 4.8, 3.4, 0.2, 'Iris-setosa'), 1.6), ((1, 4.8, 3.0, 0.1, 'Iris-setosa'), 1.4), ((1, 4.3, 3.0, 0.1, 'Iris-setosa'), 1.1), ((1, 5.8, 4.0, 0.2, 'Iris-setosa'), 1.2), ((1, 5.7, 4.4, 0.4, 'Iris-setosa'), 1.5), ((1, 5.4, 3.9, 0.4, 'Iris-setosa'), 1.3), ((1, 5.1, 3.5, 0.3, 'Iris-setosa'), 1.4), ((1, 5.7, 3.8, 0.3, 'Iris-setosa'), 1.7), ((1, 5.1, 3.8, 0.3, 'Iris-setosa'), 1.5), ((1, 5.4, 3.4, 0.2, 'Iris-setosa'), 1.7), ((1, 5.1, 3.7, 0.4, 'Iris-setosa'), 1.5), ((1, 4.6, 3.6, 0.2, 'Iris-setosa'), 1.0), ((1, 5.1, 3.3, 0.5, 'Iris-setosa'), 1.7), ((1, 4.8, 3.4, 0.2, 'Iris-setosa'), 1.9), ((1, 5.0, 3.0, 0.2, 'Iris-setosa'), 1.6), ((1, 5.0, 3.4, 0.4, 'Iris-setosa'), 1.6), ((1, 5.2, 3.5, 0.2, 'Iris-setosa'), 1.5), ((1, 5.2, 3.4, 0.2, 'Iris-setosa'), 1.4), ((1, 4.7, 3.2, 0.2, 'Iris-setosa'), 1.6), ((1, 4.8, 3.1, 0.2, 'Iris-setosa'), 1.6), ((1, 5.4, 3.4, 0.4, 'Iris-setosa'), 1.5), ((1, 5.2, 4.1, 0.1, 'Iris-setosa'), 1.5), ((1, 5.5, 4.2, 0.2, 'Iris-setosa'), 1.4), ((1, 4.9, 3.1, 0.1, 'Iris-setosa'), 1.5), ((1, 5.0, 3.2, 0.2, 'Iris-setosa'), 1.2), ((1, 5.5, 3.5, 0.2, 'Iris-setosa'), 1.3), ((1, 4.9, 3.1, 0.1, 'Iris-setosa'), 1.5), ((1, 4.4, 3.0, 0.2, 'Iris-setosa'), 1.3), ((1, 5.1, 3.4, 0.2, 'Iris-setosa'), 1.5), ((1, 5.0, 3.5, 0.3, 'Iris-setosa'), 1.3), ((1, 4.5, 2.3, 0.3, 'Iris-setosa'), 1.3), ((1, 4.4, 3.2, 0.2, 'Iris-setosa'), 1.3), ((1, 5.0, 3.5, 0.6, 'Iris-setosa'), 1.6), ((1, 5.1, 3.8, 0.4, 'Iris-setosa'), 1.9), ((1, 4.8, 3.0, 0.3, 'Iris-setosa'), 1.4), ((1, 5.1, 3.8, 0.2, 'Iris-setosa'), 1.6), ((1, 4.6, 3.2, 0.2, 'Iris-setosa'), 1.4), ((1, 5.3, 3.7, 0.2, 'Iris-setosa'), 1.5), ((1, 5.0, 3.3, 0.2, 'Iris-setosa'), 1.4), ((1, 7.0, 3.2, 1.4, 'Iris-versicolor'), 4.7), ((1, 6.4, 3.2, 1.5, 'Iris-versicolor'), 4.5), ((1, 6.9, 3.1, 1.5, 'Iris-versicolor'), 4.9), ((1, 5.5, 2.3, 1.3, 'Iris-versicolor'), 4.0), ((1, 6.5, 2.8, 1.5, 'Iris-versicolor'), 4.6), ((1, 5.7, 2.8, 1.3, 'Iris-versicolor'), 4.5), ((1, 6.3, 3.3, 1.6, 'Iris-versicolor'), 4.7), ((1, 4.9, 2.4, 1.0, 'Iris-versicolor'), 3.3), ((1, 6.6, 2.9, 1.3, 'Iris-versicolor'), 4.6), ((1, 5.2, 2.7, 1.4, 'Iris-versicolor'), 3.9), ((1, 5.0, 2.0, 1.0, 'Iris-versicolor'), 3.5), ((1, 5.9, 3.0, 1.5, 'Iris-versicolor'), 4.2), ((1, 6.0, 2.2, 1.0, 'Iris-versicolor'), 4.0), ((1, 6.1, 2.9, 1.4, 'Iris-versicolor'), 4.7), ((1, 5.6, 2.9, 1.3, 'Iris-versicolor'), 3.6), ((1, 6.7, 3.1, 1.4, 'Iris-versicolor'), 4.4), ((1, 5.6, 3.0, 1.5, 'Iris-versicolor'), 4.5), ((1, 5.8, 2.7, 1.0, 'Iris-versicolor'), 4.1), ((1, 6.2, 2.2, 1.5, 'Iris-versicolor'), 4.5), ((1, 5.6, 2.5, 1.1, 'Iris-versicolor'), 3.9), ((1, 5.9, 3.2, 1.8, 'Iris-versicolor'), 4.8), ((1, 6.1, 2.8, 1.3, 'Iris-versicolor'), 4.0), ((1, 6.3, 2.5, 1.5, 'Iris-versicolor'), 4.9), ((1, 6.1, 2.8, 1.2, 'Iris-versicolor'), 4.7), ((1, 6.4, 2.9, 1.3, 'Iris-versicolor'), 4.3), ((1, 6.6, 3.0, 1.4, 'Iris-versicolor'), 4.4), ((1, 6.8, 2.8, 1.4, 'Iris-versicolor'), 4.8), ((1, 6.7, 3.0, 1.7, 'Iris-versicolor'), 5.0), ((1, 6.0, 2.9, 1.5, 'Iris-versicolor'), 4.5), ((1, 5.7, 2.6, 1.0, 'Iris-versicolor'), 3.5), ((1, 5.5, 2.4, 1.1, 'Iris-versicolor'), 3.8), ((1, 5.5, 2.4, 1.0, 'Iris-versicolor'), 3.7), ((1, 5.8, 2.7, 1.2, 'Iris-versicolor'), 3.9), ((1, 6.0, 2.7, 1.6, 'Iris-versicolor'), 5.1), ((1, 5.4, 3.0, 1.5, 'Iris-versicolor'), 4.5), ((1, 6.0, 3.4, 1.6, 'Iris-versicolor'), 4.5), ((1, 6.7, 3.1, 1.5, 'Iris-versicolor'), 4.7), ((1, 6.3, 2.3, 1.3, 'Iris-versicolor'), 4.4), ((1, 5.6, 3.0, 1.3, 'Iris-versicolor'), 4.1), ((1, 5.5, 2.5, 1.3, 'Iris-versicolor'), 4.0), ((1, 5.5, 2.6, 1.2, 'Iris-versicolor'), 4.4), ((1, 6.1, 3.0, 1.4, 'Iris-versicolor'), 4.6), ((1, 5.8, 2.6, 1.2, 'Iris-versicolor'), 4.0), ((1, 5.0, 2.3, 1.0, 'Iris-versicolor'), 3.3), ((1, 5.6, 2.7, 1.3, 'Iris-versicolor'), 4.2), ((1, 5.7, 3.0, 1.2, 'Iris-versicolor'), 4.2), ((1, 5.7, 2.9, 1.3, 'Iris-versicolor'), 4.2), ((1, 6.2, 2.9, 1.3, 'Iris-versicolor'), 4.3), ((1, 5.1, 2.5, 1.1, 'Iris-versicolor'), 3.0), ((1, 5.7, 2.8, 1.3, 'Iris-versicolor'), 4.1), ((1, 6.3, 3.3, 2.5, 'Iris-virginica'), 6.0), ((1, 5.8, 2.7, 1.9, 'Iris-virginica'), 5.1), ((1, 7.1, 3.0, 2.1, 'Iris-virginica'), 5.9), ((1, 6.3, 2.9, 1.8, 'Iris-virginica'), 5.6), ((1, 6.5, 3.0, 2.2, 'Iris-virginica'), 5.8), ((1, 7.6, 3.0, 2.1, 'Iris-virginica'), 6.6), ((1, 4.9, 2.5, 1.7, 'Iris-virginica'), 4.5), ((1, 7.3, 2.9, 1.8, 'Iris-virginica'), 6.3), ((1, 6.7, 2.5, 1.8, 'Iris-virginica'), 5.8), ((1, 7.2, 3.6, 2.5, 'Iris-virginica'), 6.1), ((1, 6.5, 3.2, 2.0, 'Iris-virginica'), 5.1), ((1, 6.4, 2.7, 1.9, 'Iris-virginica'), 5.3), ((1, 6.8, 3.0, 2.1, 'Iris-virginica'), 5.5), ((1, 5.7, 2.5, 2.0, 'Iris-virginica'), 5.0), ((1, 5.8, 2.8, 2.4, 'Iris-virginica'), 5.1), ((1, 6.4, 3.2, 2.3, 'Iris-virginica'), 5.3), ((1, 6.5, 3.0, 1.8, 'Iris-virginica'), 5.5), ((1, 7.7, 3.8, 2.2, 'Iris-virginica'), 6.7), ((1, 7.7, 2.6, 2.3, 'Iris-virginica'), 6.9), ((1, 6.0, 2.2, 1.5, 'Iris-virginica'), 5.0), ((1, 6.9, 3.2, 2.3, 'Iris-virginica'), 5.7), ((1, 5.6, 2.8, 2.0, 'Iris-virginica'), 4.9), ((1, 7.7, 2.8, 2.0, 'Iris-virginica'), 6.7), ((1, 6.3, 2.7, 1.8, 'Iris-virginica'), 4.9), ((1, 6.7, 3.3, 2.1, 'Iris-virginica'), 5.7), ((1, 7.2, 3.2, 1.8, 'Iris-virginica'), 6.0), ((1, 6.2, 2.8, 1.8, 'Iris-virginica'), 4.8), ((1, 6.1, 3.0, 1.8, 'Iris-virginica'), 4.9), ((1, 6.4, 2.8, 2.1, 'Iris-virginica'), 5.6), ((1, 7.2, 3.0, 1.6, 'Iris-virginica'), 5.8), ((1, 7.4, 2.8, 1.9, 'Iris-virginica'), 6.1), ((1, 7.9, 3.8, 2.0, 'Iris-virginica'), 6.4), ((1, 6.4, 2.8, 2.2, 'Iris-virginica'), 5.6), ((1, 6.3, 2.8, 1.5, 'Iris-virginica'), 5.1), ((1, 6.1, 2.6, 1.4, 'Iris-virginica'), 5.6), ((1, 7.7, 3.0, 2.3, 'Iris-virginica'), 6.1), ((1, 6.3, 3.4, 2.4, 'Iris-virginica'), 5.6), ((1, 6.4, 3.1, 1.8, 'Iris-virginica'), 5.5), ((1, 6.0, 3.0, 1.8, 'Iris-virginica'), 4.8), ((1, 6.9, 3.1, 2.1, 'Iris-virginica'), 5.4), ((1, 6.7, 3.1, 2.4, 'Iris-virginica'), 5.6), ((1, 6.9, 3.1, 2.3, 'Iris-virginica'), 5.1), ((1, 5.8, 2.7, 1.9, 'Iris-virginica'), 5.1), ((1, 6.8, 3.2, 2.3, 'Iris-virginica'), 5.9), ((1, 6.7, 3.3, 2.5, 'Iris-virginica'), 5.7), ((1, 6.7, 3.0, 2.3, 'Iris-virginica'), 5.2), ((1, 6.3, 2.5, 1.9, 'Iris-virginica'), 5.0), ((1, 6.5, 3.0, 2.0, 'Iris-virginica'), 5.2), ((1, 6.2, 3.4, 2.3, 'Iris-virginica'), 5.4), ((1, 5.9, 3.0, 1.8, 'Iris-virginica'), 5.1)]\n"
     ]
    }
   ],
   "source": [
    "dataPW = [((1,x1,x2,x3,species), petal_width) for (x1,x2,petal_width,x3,species) in data]\n",
    "print(dataPW)"
   ]
  },
  {
   "cell_type": "markdown",
   "id": "23a31fb1",
   "metadata": {},
   "source": [
    "Because we have categorical values, we need to turn them into numerical values. We can use a method called One-Hot Encoding which is a method of converting data to prepare it for an algorithm to get a better prediction. "
   ]
  },
  {
   "cell_type": "code",
   "execution_count": 30,
   "id": "6b00be42",
   "metadata": {},
   "outputs": [
    {
     "name": "stdout",
     "output_type": "stream",
     "text": [
      "['Iris-setosa', 'Iris-setosa', 'Iris-setosa', 'Iris-setosa', 'Iris-setosa', 'Iris-setosa', 'Iris-setosa', 'Iris-setosa', 'Iris-setosa', 'Iris-setosa', 'Iris-setosa', 'Iris-setosa', 'Iris-setosa', 'Iris-setosa', 'Iris-setosa', 'Iris-setosa', 'Iris-setosa', 'Iris-setosa', 'Iris-setosa', 'Iris-setosa', 'Iris-setosa', 'Iris-setosa', 'Iris-setosa', 'Iris-setosa', 'Iris-setosa', 'Iris-setosa', 'Iris-setosa', 'Iris-setosa', 'Iris-setosa', 'Iris-setosa', 'Iris-setosa', 'Iris-setosa', 'Iris-setosa', 'Iris-setosa', 'Iris-setosa', 'Iris-setosa', 'Iris-setosa', 'Iris-setosa', 'Iris-setosa', 'Iris-setosa', 'Iris-setosa', 'Iris-setosa', 'Iris-setosa', 'Iris-setosa', 'Iris-setosa', 'Iris-setosa', 'Iris-setosa', 'Iris-setosa', 'Iris-setosa', 'Iris-setosa', 'Iris-versicolor', 'Iris-versicolor', 'Iris-versicolor', 'Iris-versicolor', 'Iris-versicolor', 'Iris-versicolor', 'Iris-versicolor', 'Iris-versicolor', 'Iris-versicolor', 'Iris-versicolor', 'Iris-versicolor', 'Iris-versicolor', 'Iris-versicolor', 'Iris-versicolor', 'Iris-versicolor', 'Iris-versicolor', 'Iris-versicolor', 'Iris-versicolor', 'Iris-versicolor', 'Iris-versicolor', 'Iris-versicolor', 'Iris-versicolor', 'Iris-versicolor', 'Iris-versicolor', 'Iris-versicolor', 'Iris-versicolor', 'Iris-versicolor', 'Iris-versicolor', 'Iris-versicolor', 'Iris-versicolor', 'Iris-versicolor', 'Iris-versicolor', 'Iris-versicolor', 'Iris-versicolor', 'Iris-versicolor', 'Iris-versicolor', 'Iris-versicolor', 'Iris-versicolor', 'Iris-versicolor', 'Iris-versicolor', 'Iris-versicolor', 'Iris-versicolor', 'Iris-versicolor', 'Iris-versicolor', 'Iris-versicolor', 'Iris-versicolor', 'Iris-versicolor', 'Iris-versicolor', 'Iris-versicolor', 'Iris-versicolor', 'Iris-virginica', 'Iris-virginica', 'Iris-virginica', 'Iris-virginica', 'Iris-virginica', 'Iris-virginica', 'Iris-virginica', 'Iris-virginica', 'Iris-virginica', 'Iris-virginica', 'Iris-virginica', 'Iris-virginica', 'Iris-virginica', 'Iris-virginica', 'Iris-virginica', 'Iris-virginica', 'Iris-virginica', 'Iris-virginica', 'Iris-virginica', 'Iris-virginica', 'Iris-virginica', 'Iris-virginica', 'Iris-virginica', 'Iris-virginica', 'Iris-virginica', 'Iris-virginica', 'Iris-virginica', 'Iris-virginica', 'Iris-virginica', 'Iris-virginica', 'Iris-virginica', 'Iris-virginica', 'Iris-virginica', 'Iris-virginica', 'Iris-virginica', 'Iris-virginica', 'Iris-virginica', 'Iris-virginica', 'Iris-virginica', 'Iris-virginica', 'Iris-virginica', 'Iris-virginica', 'Iris-virginica', 'Iris-virginica', 'Iris-virginica', 'Iris-virginica', 'Iris-virginica', 'Iris-virginica', 'Iris-virginica', 'Iris-virginica']\n",
      "[(0, 0, 1), (0, 0, 1), (0, 0, 1), (0, 0, 1), (0, 0, 1), (0, 0, 1), (0, 0, 1), (0, 0, 1), (0, 0, 1), (0, 0, 1), (0, 0, 1), (0, 0, 1), (0, 0, 1), (0, 0, 1), (0, 0, 1), (0, 0, 1), (0, 0, 1), (0, 0, 1), (0, 0, 1), (0, 0, 1), (0, 0, 1), (0, 0, 1), (0, 0, 1), (0, 0, 1), (0, 0, 1), (0, 0, 1), (0, 0, 1), (0, 0, 1), (0, 0, 1), (0, 0, 1), (0, 0, 1), (0, 0, 1), (0, 0, 1), (0, 0, 1), (0, 0, 1), (0, 0, 1), (0, 0, 1), (0, 0, 1), (0, 0, 1), (0, 0, 1), (0, 0, 1), (0, 0, 1), (0, 0, 1), (0, 0, 1), (0, 0, 1), (0, 0, 1), (0, 0, 1), (0, 0, 1), (0, 0, 1), (0, 0, 1), (0, 1, 0), (0, 1, 0), (0, 1, 0), (0, 1, 0), (0, 1, 0), (0, 1, 0), (0, 1, 0), (0, 1, 0), (0, 1, 0), (0, 1, 0), (0, 1, 0), (0, 1, 0), (0, 1, 0), (0, 1, 0), (0, 1, 0), (0, 1, 0), (0, 1, 0), (0, 1, 0), (0, 1, 0), (0, 1, 0), (0, 1, 0), (0, 1, 0), (0, 1, 0), (0, 1, 0), (0, 1, 0), (0, 1, 0), (0, 1, 0), (0, 1, 0), (0, 1, 0), (0, 1, 0), (0, 1, 0), (0, 1, 0), (0, 1, 0), (0, 1, 0), (0, 1, 0), (0, 1, 0), (0, 1, 0), (0, 1, 0), (0, 1, 0), (0, 1, 0), (0, 1, 0), (0, 1, 0), (0, 1, 0), (0, 1, 0), (0, 1, 0), (0, 1, 0), (0, 1, 0), (0, 1, 0), (0, 1, 0), (0, 1, 0), (0, 0, 1), (0, 0, 1), (0, 0, 1), (0, 0, 1), (0, 0, 1), (0, 0, 1), (0, 0, 1), (0, 0, 1), (0, 0, 1), (0, 0, 1), (0, 0, 1), (0, 0, 1), (0, 0, 1), (0, 0, 1), (0, 0, 1), (0, 0, 1), (0, 0, 1), (0, 0, 1), (0, 0, 1), (0, 0, 1), (0, 0, 1), (0, 0, 1), (0, 0, 1), (0, 0, 1), (0, 0, 1), (0, 0, 1), (0, 0, 1), (0, 0, 1), (0, 0, 1), (0, 0, 1), (0, 0, 1), (0, 0, 1), (0, 0, 1), (0, 0, 1), (0, 0, 1), (0, 0, 1), (0, 0, 1), (0, 0, 1), (0, 0, 1), (0, 0, 1), (0, 0, 1), (0, 0, 1), (0, 0, 1), (0, 0, 1), (0, 0, 1), (0, 0, 1), (0, 0, 1), (0, 0, 1), (0, 0, 1), (0, 0, 1)]\n"
     ]
    }
   ],
   "source": [
    "# here we are extracting the species data in the dataPW list. \n",
    "speciesData = [s for ((_,_,_,_,s),_) in dataPW]\n",
    "# here we are assigning it a numerical value based on its species type\n",
    "speciesOHE = [(1,0,0) if x == 'Iris-Setosa' else (0,1,0) if x == 'Iris-versicolor' else (0,0,1) for x in speciesData]\n",
    "\n",
    "print(speciesData)\n",
    "print(speciesOHE)"
   ]
  },
  {
   "cell_type": "markdown",
   "id": "b21af34b",
   "metadata": {},
   "source": [
    "Now put the new numerical values back into the data. "
   ]
  },
  {
   "cell_type": "code",
   "execution_count": 31,
   "id": "7ed21587",
   "metadata": {},
   "outputs": [
    {
     "name": "stdout",
     "output_type": "stream",
     "text": [
      "[((1, 5.1, 3.5, 0.2, 0, 0, 1), 1.4), ((1, 4.9, 3.0, 0.2, 0, 0, 1), 1.4), ((1, 4.7, 3.2, 0.2, 0, 0, 1), 1.3), ((1, 4.6, 3.1, 0.2, 0, 0, 1), 1.5), ((1, 5.0, 3.6, 0.2, 0, 0, 1), 1.4), ((1, 5.4, 3.9, 0.4, 0, 0, 1), 1.7), ((1, 4.6, 3.4, 0.3, 0, 0, 1), 1.4), ((1, 5.0, 3.4, 0.2, 0, 0, 1), 1.5), ((1, 4.4, 2.9, 0.2, 0, 0, 1), 1.4), ((1, 4.9, 3.1, 0.1, 0, 0, 1), 1.5), ((1, 5.4, 3.7, 0.2, 0, 0, 1), 1.5), ((1, 4.8, 3.4, 0.2, 0, 0, 1), 1.6), ((1, 4.8, 3.0, 0.1, 0, 0, 1), 1.4), ((1, 4.3, 3.0, 0.1, 0, 0, 1), 1.1), ((1, 5.8, 4.0, 0.2, 0, 0, 1), 1.2), ((1, 5.7, 4.4, 0.4, 0, 0, 1), 1.5), ((1, 5.4, 3.9, 0.4, 0, 0, 1), 1.3), ((1, 5.1, 3.5, 0.3, 0, 0, 1), 1.4), ((1, 5.7, 3.8, 0.3, 0, 0, 1), 1.7), ((1, 5.1, 3.8, 0.3, 0, 0, 1), 1.5), ((1, 5.4, 3.4, 0.2, 0, 0, 1), 1.7), ((1, 5.1, 3.7, 0.4, 0, 0, 1), 1.5), ((1, 4.6, 3.6, 0.2, 0, 0, 1), 1.0), ((1, 5.1, 3.3, 0.5, 0, 0, 1), 1.7), ((1, 4.8, 3.4, 0.2, 0, 0, 1), 1.9), ((1, 5.0, 3.0, 0.2, 0, 0, 1), 1.6), ((1, 5.0, 3.4, 0.4, 0, 0, 1), 1.6), ((1, 5.2, 3.5, 0.2, 0, 0, 1), 1.5), ((1, 5.2, 3.4, 0.2, 0, 0, 1), 1.4), ((1, 4.7, 3.2, 0.2, 0, 0, 1), 1.6), ((1, 4.8, 3.1, 0.2, 0, 0, 1), 1.6), ((1, 5.4, 3.4, 0.4, 0, 0, 1), 1.5), ((1, 5.2, 4.1, 0.1, 0, 0, 1), 1.5), ((1, 5.5, 4.2, 0.2, 0, 0, 1), 1.4), ((1, 4.9, 3.1, 0.1, 0, 0, 1), 1.5), ((1, 5.0, 3.2, 0.2, 0, 0, 1), 1.2), ((1, 5.5, 3.5, 0.2, 0, 0, 1), 1.3), ((1, 4.9, 3.1, 0.1, 0, 0, 1), 1.5), ((1, 4.4, 3.0, 0.2, 0, 0, 1), 1.3), ((1, 5.1, 3.4, 0.2, 0, 0, 1), 1.5), ((1, 5.0, 3.5, 0.3, 0, 0, 1), 1.3), ((1, 4.5, 2.3, 0.3, 0, 0, 1), 1.3), ((1, 4.4, 3.2, 0.2, 0, 0, 1), 1.3), ((1, 5.0, 3.5, 0.6, 0, 0, 1), 1.6), ((1, 5.1, 3.8, 0.4, 0, 0, 1), 1.9), ((1, 4.8, 3.0, 0.3, 0, 0, 1), 1.4), ((1, 5.1, 3.8, 0.2, 0, 0, 1), 1.6), ((1, 4.6, 3.2, 0.2, 0, 0, 1), 1.4), ((1, 5.3, 3.7, 0.2, 0, 0, 1), 1.5), ((1, 5.0, 3.3, 0.2, 0, 0, 1), 1.4), ((1, 7.0, 3.2, 1.4, 0, 1, 0), 4.7), ((1, 6.4, 3.2, 1.5, 0, 1, 0), 4.5), ((1, 6.9, 3.1, 1.5, 0, 1, 0), 4.9), ((1, 5.5, 2.3, 1.3, 0, 1, 0), 4.0), ((1, 6.5, 2.8, 1.5, 0, 1, 0), 4.6), ((1, 5.7, 2.8, 1.3, 0, 1, 0), 4.5), ((1, 6.3, 3.3, 1.6, 0, 1, 0), 4.7), ((1, 4.9, 2.4, 1.0, 0, 1, 0), 3.3), ((1, 6.6, 2.9, 1.3, 0, 1, 0), 4.6), ((1, 5.2, 2.7, 1.4, 0, 1, 0), 3.9), ((1, 5.0, 2.0, 1.0, 0, 1, 0), 3.5), ((1, 5.9, 3.0, 1.5, 0, 1, 0), 4.2), ((1, 6.0, 2.2, 1.0, 0, 1, 0), 4.0), ((1, 6.1, 2.9, 1.4, 0, 1, 0), 4.7), ((1, 5.6, 2.9, 1.3, 0, 1, 0), 3.6), ((1, 6.7, 3.1, 1.4, 0, 1, 0), 4.4), ((1, 5.6, 3.0, 1.5, 0, 1, 0), 4.5), ((1, 5.8, 2.7, 1.0, 0, 1, 0), 4.1), ((1, 6.2, 2.2, 1.5, 0, 1, 0), 4.5), ((1, 5.6, 2.5, 1.1, 0, 1, 0), 3.9), ((1, 5.9, 3.2, 1.8, 0, 1, 0), 4.8), ((1, 6.1, 2.8, 1.3, 0, 1, 0), 4.0), ((1, 6.3, 2.5, 1.5, 0, 1, 0), 4.9), ((1, 6.1, 2.8, 1.2, 0, 1, 0), 4.7), ((1, 6.4, 2.9, 1.3, 0, 1, 0), 4.3), ((1, 6.6, 3.0, 1.4, 0, 1, 0), 4.4), ((1, 6.8, 2.8, 1.4, 0, 1, 0), 4.8), ((1, 6.7, 3.0, 1.7, 0, 1, 0), 5.0), ((1, 6.0, 2.9, 1.5, 0, 1, 0), 4.5), ((1, 5.7, 2.6, 1.0, 0, 1, 0), 3.5), ((1, 5.5, 2.4, 1.1, 0, 1, 0), 3.8), ((1, 5.5, 2.4, 1.0, 0, 1, 0), 3.7), ((1, 5.8, 2.7, 1.2, 0, 1, 0), 3.9), ((1, 6.0, 2.7, 1.6, 0, 1, 0), 5.1), ((1, 5.4, 3.0, 1.5, 0, 1, 0), 4.5), ((1, 6.0, 3.4, 1.6, 0, 1, 0), 4.5), ((1, 6.7, 3.1, 1.5, 0, 1, 0), 4.7), ((1, 6.3, 2.3, 1.3, 0, 1, 0), 4.4), ((1, 5.6, 3.0, 1.3, 0, 1, 0), 4.1), ((1, 5.5, 2.5, 1.3, 0, 1, 0), 4.0), ((1, 5.5, 2.6, 1.2, 0, 1, 0), 4.4), ((1, 6.1, 3.0, 1.4, 0, 1, 0), 4.6), ((1, 5.8, 2.6, 1.2, 0, 1, 0), 4.0), ((1, 5.0, 2.3, 1.0, 0, 1, 0), 3.3), ((1, 5.6, 2.7, 1.3, 0, 1, 0), 4.2), ((1, 5.7, 3.0, 1.2, 0, 1, 0), 4.2), ((1, 5.7, 2.9, 1.3, 0, 1, 0), 4.2), ((1, 6.2, 2.9, 1.3, 0, 1, 0), 4.3), ((1, 5.1, 2.5, 1.1, 0, 1, 0), 3.0), ((1, 5.7, 2.8, 1.3, 0, 1, 0), 4.1), ((1, 6.3, 3.3, 2.5, 0, 0, 1), 6.0), ((1, 5.8, 2.7, 1.9, 0, 0, 1), 5.1), ((1, 7.1, 3.0, 2.1, 0, 0, 1), 5.9), ((1, 6.3, 2.9, 1.8, 0, 0, 1), 5.6), ((1, 6.5, 3.0, 2.2, 0, 0, 1), 5.8), ((1, 7.6, 3.0, 2.1, 0, 0, 1), 6.6), ((1, 4.9, 2.5, 1.7, 0, 0, 1), 4.5), ((1, 7.3, 2.9, 1.8, 0, 0, 1), 6.3), ((1, 6.7, 2.5, 1.8, 0, 0, 1), 5.8), ((1, 7.2, 3.6, 2.5, 0, 0, 1), 6.1), ((1, 6.5, 3.2, 2.0, 0, 0, 1), 5.1), ((1, 6.4, 2.7, 1.9, 0, 0, 1), 5.3), ((1, 6.8, 3.0, 2.1, 0, 0, 1), 5.5), ((1, 5.7, 2.5, 2.0, 0, 0, 1), 5.0), ((1, 5.8, 2.8, 2.4, 0, 0, 1), 5.1), ((1, 6.4, 3.2, 2.3, 0, 0, 1), 5.3), ((1, 6.5, 3.0, 1.8, 0, 0, 1), 5.5), ((1, 7.7, 3.8, 2.2, 0, 0, 1), 6.7), ((1, 7.7, 2.6, 2.3, 0, 0, 1), 6.9), ((1, 6.0, 2.2, 1.5, 0, 0, 1), 5.0), ((1, 6.9, 3.2, 2.3, 0, 0, 1), 5.7), ((1, 5.6, 2.8, 2.0, 0, 0, 1), 4.9), ((1, 7.7, 2.8, 2.0, 0, 0, 1), 6.7), ((1, 6.3, 2.7, 1.8, 0, 0, 1), 4.9), ((1, 6.7, 3.3, 2.1, 0, 0, 1), 5.7), ((1, 7.2, 3.2, 1.8, 0, 0, 1), 6.0), ((1, 6.2, 2.8, 1.8, 0, 0, 1), 4.8), ((1, 6.1, 3.0, 1.8, 0, 0, 1), 4.9), ((1, 6.4, 2.8, 2.1, 0, 0, 1), 5.6), ((1, 7.2, 3.0, 1.6, 0, 0, 1), 5.8), ((1, 7.4, 2.8, 1.9, 0, 0, 1), 6.1), ((1, 7.9, 3.8, 2.0, 0, 0, 1), 6.4), ((1, 6.4, 2.8, 2.2, 0, 0, 1), 5.6), ((1, 6.3, 2.8, 1.5, 0, 0, 1), 5.1), ((1, 6.1, 2.6, 1.4, 0, 0, 1), 5.6), ((1, 7.7, 3.0, 2.3, 0, 0, 1), 6.1), ((1, 6.3, 3.4, 2.4, 0, 0, 1), 5.6), ((1, 6.4, 3.1, 1.8, 0, 0, 1), 5.5), ((1, 6.0, 3.0, 1.8, 0, 0, 1), 4.8), ((1, 6.9, 3.1, 2.1, 0, 0, 1), 5.4), ((1, 6.7, 3.1, 2.4, 0, 0, 1), 5.6), ((1, 6.9, 3.1, 2.3, 0, 0, 1), 5.1), ((1, 5.8, 2.7, 1.9, 0, 0, 1), 5.1), ((1, 6.8, 3.2, 2.3, 0, 0, 1), 5.9), ((1, 6.7, 3.3, 2.5, 0, 0, 1), 5.7), ((1, 6.7, 3.0, 2.3, 0, 0, 1), 5.2), ((1, 6.3, 2.5, 1.9, 0, 0, 1), 5.0), ((1, 6.5, 3.0, 2.0, 0, 0, 1), 5.2), ((1, 6.2, 3.4, 2.3, 0, 0, 1), 5.4), ((1, 5.9, 3.0, 1.8, 0, 0, 1), 5.1)]\n"
     ]
    }
   ],
   "source": [
    "dataPW = [((xs[0],xs[1],xs[2],xs[3],setosa,versicolor,virginica), y) for ((xs,y), (setosa, versicolor, virginica)) in zip(dataPW, speciesOHE)]\n",
    "print(dataPW)"
   ]
  },
  {
   "cell_type": "markdown",
   "id": "b91e622c",
   "metadata": {},
   "source": [
    "We now have a model with 7 inputs and 1 output. "
   ]
  },
  {
   "cell_type": "code",
   "execution_count": 32,
   "id": "8c7e7b16",
   "metadata": {},
   "outputs": [],
   "source": [
    "alpha = 0.01              # learning rate\n",
    "model = [0,0,0,0,0,0,0]   # base model"
   ]
  },
  {
   "cell_type": "code",
   "execution_count": 33,
   "id": "4644d914",
   "metadata": {},
   "outputs": [],
   "source": [
    "def LinearRegression(alpha, model, data, iterations):\n",
    "  X = [x for (x,y) in data]\n",
    "  Y = [y for (x,y) in data]\n",
    "  for i in range(iterations):\n",
    "    yPredicted = [F(model, x) for x in X]\n",
    "    \n",
    "    # Gradient function\n",
    "    D = lambda model, X, Y, var: 1/len(Y)*sum([(-2*(r-y)*x[var]) for r,y,x in zip(Y, yPredicted, X)])\n",
    "    for i in range(len(model)):\n",
    "      delta = D(model, X, Y, i)\n",
    "      model[i] = model[i]-alpha*delta\n",
    "\n",
    "  return model"
   ]
  },
  {
   "cell_type": "code",
   "execution_count": 36,
   "id": "47482a10",
   "metadata": {
    "scrolled": true
   },
   "outputs": [
    {
     "name": "stdout",
     "output_type": "stream",
     "text": [
      "Final Model: [-0.15079416724821737, 0.6994803838501065, -0.6042964147053217, 1.4712821902877884, 0.0, -0.017154400562994946, -0.13363976668522262]\n"
     ]
    }
   ],
   "source": [
    "model = LinearRegression(alpha, model, dataPW, 1000)\n",
    "print(\"Final Model:\", model)"
   ]
  },
  {
   "cell_type": "markdown",
   "id": "1e31964c",
   "metadata": {},
   "source": [
    "Calculation to find Squared Error and Mean Squared Error"
   ]
  },
  {
   "cell_type": "code",
   "execution_count": 40,
   "id": "f88656a6",
   "metadata": {},
   "outputs": [
    {
     "name": "stdout",
     "output_type": "stream",
     "text": [
      "Squared Error: 14.392488627821233\n",
      "Mean Squared Error: 0.09594992418547489\n"
     ]
    }
   ],
   "source": [
    "X = [x for (x,y) in dataPW]\n",
    "Y = [y for (x,y) in dataPW]\n",
    "dataX1 = [x for (_,x,_,_,_,_,_) in X]\n",
    "dataX2 = [x for (_,_,x,_,_,_,_) in X]\n",
    "yPredicted = [F(model, x) for x in X]\n",
    "\n",
    "SE = sum([(r-y)**2.0 for r,y in zip(Y, yPredicted)])\n",
    "MSE = (1/len(dataPW)) * SE\n",
    "print(\"Squared Error:\", SE)\n",
    "print(\"Mean Squared Error:\", MSE)"
   ]
  },
  {
   "cell_type": "markdown",
   "id": "81896197",
   "metadata": {},
   "source": [
    "### Logistic Regression"
   ]
  },
  {
   "cell_type": "code",
   "execution_count": 41,
   "id": "6a7fdb68",
   "metadata": {},
   "outputs": [
    {
     "ename": "TypeError",
     "evalue": "list indices must be integers or slices, not list",
     "output_type": "error",
     "traceback": [
      "\u001b[1;31m---------------------------------------------------------------------------\u001b[0m",
      "\u001b[1;31mTypeError\u001b[0m                                 Traceback (most recent call last)",
      "\u001b[1;32m<ipython-input-41-c9c492e4856a>\u001b[0m in \u001b[0;36m<module>\u001b[1;34m\u001b[0m\n\u001b[1;32m----> 1\u001b[1;33m \u001b[0mX\u001b[0m \u001b[1;33m=\u001b[0m \u001b[0mdata\u001b[0m\u001b[1;33m[\u001b[0m\u001b[1;33m[\u001b[0m\u001b[1;34m'Sepal.Length'\u001b[0m\u001b[1;33m,\u001b[0m\u001b[1;34m'Sepal.Width'\u001b[0m\u001b[1;33m,\u001b[0m\u001b[1;34m'Petal.Length'\u001b[0m\u001b[1;33m,\u001b[0m\u001b[1;34m'Petal.Width'\u001b[0m\u001b[1;33m]\u001b[0m\u001b[1;33m]\u001b[0m\u001b[1;33m\u001b[0m\u001b[1;33m\u001b[0m\u001b[0m\n\u001b[0m\u001b[0;32m      2\u001b[0m \u001b[0my\u001b[0m\u001b[1;33m=\u001b[0m\u001b[0mdata\u001b[0m\u001b[1;33m[\u001b[0m\u001b[1;33m[\u001b[0m\u001b[1;34m'Species'\u001b[0m\u001b[1;33m]\u001b[0m\u001b[1;33m]\u001b[0m\u001b[1;33m\u001b[0m\u001b[1;33m\u001b[0m\u001b[0m\n",
      "\u001b[1;31mTypeError\u001b[0m: list indices must be integers or slices, not list"
     ]
    }
   ],
   "source": []
  },
  {
   "cell_type": "code",
   "execution_count": null,
   "id": "51286b23",
   "metadata": {},
   "outputs": [],
   "source": []
  }
 ],
 "metadata": {
  "kernelspec": {
   "display_name": "Python 3",
   "language": "python",
   "name": "python3"
  },
  "language_info": {
   "codemirror_mode": {
    "name": "ipython",
    "version": 3
   },
   "file_extension": ".py",
   "mimetype": "text/x-python",
   "name": "python",
   "nbconvert_exporter": "python",
   "pygments_lexer": "ipython3",
   "version": "3.8.8"
  }
 },
 "nbformat": 4,
 "nbformat_minor": 5
}
