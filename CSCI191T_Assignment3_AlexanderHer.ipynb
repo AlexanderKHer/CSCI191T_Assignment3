{
  "nbformat": 4,
  "nbformat_minor": 0,
  "metadata": {
    "colab": {
      "name": "CSCI191T_Assignment3_AlexanderHer.ipynb",
      "provenance": [],
      "collapsed_sections": [],
      "authorship_tag": "ABX9TyNt42ACj68RocDBq95iiUrF",
      "include_colab_link": true
    },
    "kernelspec": {
      "name": "python3",
      "display_name": "Python 3"
    },
    "language_info": {
      "name": "python"
    }
  },
  "cells": [
    {
      "cell_type": "markdown",
      "metadata": {
        "id": "view-in-github",
        "colab_type": "text"
      },
      "source": [
        "<a href=\"https://colab.research.google.com/github/AlexanderKHer/school_schedule_gui/blob/main/CSCI191T_Assignment3_AlexanderHer.ipynb\" target=\"_parent\"><img src=\"https://colab.research.google.com/assets/colab-badge.svg\" alt=\"Open In Colab\"/></a>"
      ]
    },
    {
      "cell_type": "code",
      "metadata": {
        "colab": {
          "resources": {
            "http://localhost:8080/nbextensions/google.colab/files.js": {
              "data": "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",
              "ok": true,
              "headers": [
                [
                  "content-type",
                  "application/javascript"
                ]
              ],
              "status": 200,
              "status_text": ""
            }
          },
          "base_uri": "https://localhost:8080/",
          "height": 1000
        },
        "id": "IHLuvmrRachX",
        "outputId": "edda19c6-42c0-426e-b032-899aecfb493f"
      },
      "source": [
        "import pandas as pd\n",
        "import numpy as np\n",
        "import io\n",
        "import csv\n",
        "from google.colab import files\n",
        "\n",
        "uploaded = files.upload()\n",
        "\n",
        "\n",
        "# import the given data file\n",
        "df2 = pd.read_csv(io.BytesIO(uploaded['iris.data.csv']))\n",
        "\n",
        "# print out the rows of the csv file\n",
        "with open('iris.data.csv') as csv_file:\n",
        "    csv_reader = csv.reader(csv_file, delimiter=',')\n",
        "    for row in csv_reader:\n",
        "        print(row)\n",
        "\n",
        "\n",
        "\n",
        "\n"
      ],
      "execution_count": 34,
      "outputs": [
        {
          "output_type": "display_data",
          "data": {
            "text/html": [
              "\n",
              "     <input type=\"file\" id=\"files-e72bf4b1-6966-4d29-bfbb-eb64d968e18d\" name=\"files[]\" multiple disabled\n",
              "        style=\"border:none\" />\n",
              "     <output id=\"result-e72bf4b1-6966-4d29-bfbb-eb64d968e18d\">\n",
              "      Upload widget is only available when the cell has been executed in the\n",
              "      current browser session. Please rerun this cell to enable.\n",
              "      </output>\n",
              "      <script src=\"/nbextensions/google.colab/files.js\"></script> "
            ],
            "text/plain": [
              "<IPython.core.display.HTML object>"
            ]
          },
          "metadata": {}
        },
        {
          "output_type": "stream",
          "name": "stdout",
          "text": [
            "Saving iris.data.csv to iris.data (4).csv\n",
            "['5.1', '3.5', '1.4', '0.2', 'Iris-setosa']\n",
            "['4.9', '3.0', '1.4', '0.2', 'Iris-setosa']\n",
            "['4.7', '3.2', '1.3', '0.2', 'Iris-setosa']\n",
            "['4.6', '3.1', '1.5', '0.2', 'Iris-setosa']\n",
            "['5.0', '3.6', '1.4', '0.2', 'Iris-setosa']\n",
            "['5.4', '3.9', '1.7', '0.4', 'Iris-setosa']\n",
            "['4.6', '3.4', '1.4', '0.3', 'Iris-setosa']\n",
            "['5.0', '3.4', '1.5', '0.2', 'Iris-setosa']\n",
            "['4.4', '2.9', '1.4', '0.2', 'Iris-setosa']\n",
            "['4.9', '3.1', '1.5', '0.1', 'Iris-setosa']\n",
            "['5.4', '3.7', '1.5', '0.2', 'Iris-setosa']\n",
            "['4.8', '3.4', '1.6', '0.2', 'Iris-setosa']\n",
            "['4.8', '3.0', '1.4', '0.1', 'Iris-setosa']\n",
            "['4.3', '3.0', '1.1', '0.1', 'Iris-setosa']\n",
            "['5.8', '4.0', '1.2', '0.2', 'Iris-setosa']\n",
            "['5.7', '4.4', '1.5', '0.4', 'Iris-setosa']\n",
            "['5.4', '3.9', '1.3', '0.4', 'Iris-setosa']\n",
            "['5.1', '3.5', '1.4', '0.3', 'Iris-setosa']\n",
            "['5.7', '3.8', '1.7', '0.3', 'Iris-setosa']\n",
            "['5.1', '3.8', '1.5', '0.3', 'Iris-setosa']\n",
            "['5.4', '3.4', '1.7', '0.2', 'Iris-setosa']\n",
            "['5.1', '3.7', '1.5', '0.4', 'Iris-setosa']\n",
            "['4.6', '3.6', '1.0', '0.2', 'Iris-setosa']\n",
            "['5.1', '3.3', '1.7', '0.5', 'Iris-setosa']\n",
            "['4.8', '3.4', '1.9', '0.2', 'Iris-setosa']\n",
            "['5.0', '3.0', '1.6', '0.2', 'Iris-setosa']\n",
            "['5.0', '3.4', '1.6', '0.4', 'Iris-setosa']\n",
            "['5.2', '3.5', '1.5', '0.2', 'Iris-setosa']\n",
            "['5.2', '3.4', '1.4', '0.2', 'Iris-setosa']\n",
            "['4.7', '3.2', '1.6', '0.2', 'Iris-setosa']\n",
            "['4.8', '3.1', '1.6', '0.2', 'Iris-setosa']\n",
            "['5.4', '3.4', '1.5', '0.4', 'Iris-setosa']\n",
            "['5.2', '4.1', '1.5', '0.1', 'Iris-setosa']\n",
            "['5.5', '4.2', '1.4', '0.2', 'Iris-setosa']\n",
            "['4.9', '3.1', '1.5', '0.1', 'Iris-setosa']\n",
            "['5.0', '3.2', '1.2', '0.2', 'Iris-setosa']\n",
            "['5.5', '3.5', '1.3', '0.2', 'Iris-setosa']\n",
            "['4.9', '3.1', '1.5', '0.1', 'Iris-setosa']\n",
            "['4.4', '3.0', '1.3', '0.2', 'Iris-setosa']\n",
            "['5.1', '3.4', '1.5', '0.2', 'Iris-setosa']\n",
            "['5.0', '3.5', '1.3', '0.3', 'Iris-setosa']\n",
            "['4.5', '2.3', '1.3', '0.3', 'Iris-setosa']\n",
            "['4.4', '3.2', '1.3', '0.2', 'Iris-setosa']\n",
            "['5.0', '3.5', '1.6', '0.6', 'Iris-setosa']\n",
            "['5.1', '3.8', '1.9', '0.4', 'Iris-setosa']\n",
            "['4.8', '3.0', '1.4', '0.3', 'Iris-setosa']\n",
            "['5.1', '3.8', '1.6', '0.2', 'Iris-setosa']\n",
            "['4.6', '3.2', '1.4', '0.2', 'Iris-setosa']\n",
            "['5.3', '3.7', '1.5', '0.2', 'Iris-setosa']\n",
            "['5.0', '3.3', '1.4', '0.2', 'Iris-setosa']\n",
            "['7.0', '3.2', '4.7', '1.4', 'Iris-versicolor']\n",
            "['6.4', '3.2', '4.5', '1.5', 'Iris-versicolor']\n",
            "['6.9', '3.1', '4.9', '1.5', 'Iris-versicolor']\n",
            "['5.5', '2.3', '4.0', '1.3', 'Iris-versicolor']\n",
            "['6.5', '2.8', '4.6', '1.5', 'Iris-versicolor']\n",
            "['5.7', '2.8', '4.5', '1.3', 'Iris-versicolor']\n",
            "['6.3', '3.3', '4.7', '1.6', 'Iris-versicolor']\n",
            "['4.9', '2.4', '3.3', '1.0', 'Iris-versicolor']\n",
            "['6.6', '2.9', '4.6', '1.3', 'Iris-versicolor']\n",
            "['5.2', '2.7', '3.9', '1.4', 'Iris-versicolor']\n",
            "['5.0', '2.0', '3.5', '1.0', 'Iris-versicolor']\n",
            "['5.9', '3.0', '4.2', '1.5', 'Iris-versicolor']\n",
            "['6.0', '2.2', '4.0', '1.0', 'Iris-versicolor']\n",
            "['6.1', '2.9', '4.7', '1.4', 'Iris-versicolor']\n",
            "['5.6', '2.9', '3.6', '1.3', 'Iris-versicolor']\n",
            "['6.7', '3.1', '4.4', '1.4', 'Iris-versicolor']\n",
            "['5.6', '3.0', '4.5', '1.5', 'Iris-versicolor']\n",
            "['5.8', '2.7', '4.1', '1.0', 'Iris-versicolor']\n",
            "['6.2', '2.2', '4.5', '1.5', 'Iris-versicolor']\n",
            "['5.6', '2.5', '3.9', '1.1', 'Iris-versicolor']\n",
            "['5.9', '3.2', '4.8', '1.8', 'Iris-versicolor']\n",
            "['6.1', '2.8', '4.0', '1.3', 'Iris-versicolor']\n",
            "['6.3', '2.5', '4.9', '1.5', 'Iris-versicolor']\n",
            "['6.1', '2.8', '4.7', '1.2', 'Iris-versicolor']\n",
            "['6.4', '2.9', '4.3', '1.3', 'Iris-versicolor']\n",
            "['6.6', '3.0', '4.4', '1.4', 'Iris-versicolor']\n",
            "['6.8', '2.8', '4.8', '1.4', 'Iris-versicolor']\n",
            "['6.7', '3.0', '5.0', '1.7', 'Iris-versicolor']\n",
            "['6.0', '2.9', '4.5', '1.5', 'Iris-versicolor']\n",
            "['5.7', '2.6', '3.5', '1.0', 'Iris-versicolor']\n",
            "['5.5', '2.4', '3.8', '1.1', 'Iris-versicolor']\n",
            "['5.5', '2.4', '3.7', '1.0', 'Iris-versicolor']\n",
            "['5.8', '2.7', '3.9', '1.2', 'Iris-versicolor']\n",
            "['6.0', '2.7', '5.1', '1.6', 'Iris-versicolor']\n",
            "['5.4', '3.0', '4.5', '1.5', 'Iris-versicolor']\n",
            "['6.0', '3.4', '4.5', '1.6', 'Iris-versicolor']\n",
            "['6.7', '3.1', '4.7', '1.5', 'Iris-versicolor']\n",
            "['6.3', '2.3', '4.4', '1.3', 'Iris-versicolor']\n",
            "['5.6', '3.0', '4.1', '1.3', 'Iris-versicolor']\n",
            "['5.5', '2.5', '4.0', '1.3', 'Iris-versicolor']\n",
            "['5.5', '2.6', '4.4', '1.2', 'Iris-versicolor']\n",
            "['6.1', '3.0', '4.6', '1.4', 'Iris-versicolor']\n",
            "['5.8', '2.6', '4.0', '1.2', 'Iris-versicolor']\n",
            "['5.0', '2.3', '3.3', '1.0', 'Iris-versicolor']\n",
            "['5.6', '2.7', '4.2', '1.3', 'Iris-versicolor']\n",
            "['5.7', '3.0', '4.2', '1.2', 'Iris-versicolor']\n",
            "['5.7', '2.9', '4.2', '1.3', 'Iris-versicolor']\n",
            "['6.2', '2.9', '4.3', '1.3', 'Iris-versicolor']\n",
            "['5.1', '2.5', '3.0', '1.1', 'Iris-versicolor']\n",
            "['5.7', '2.8', '4.1', '1.3', 'Iris-versicolor']\n",
            "['6.3', '3.3', '6.0', '2.5', 'Iris-virginica']\n",
            "['5.8', '2.7', '5.1', '1.9', 'Iris-virginica']\n",
            "['7.1', '3.0', '5.9', '2.1', 'Iris-virginica']\n",
            "['6.3', '2.9', '5.6', '1.8', 'Iris-virginica']\n",
            "['6.5', '3.0', '5.8', '2.2', 'Iris-virginica']\n",
            "['7.6', '3.0', '6.6', '2.1', 'Iris-virginica']\n",
            "['4.9', '2.5', '4.5', '1.7', 'Iris-virginica']\n",
            "['7.3', '2.9', '6.3', '1.8', 'Iris-virginica']\n",
            "['6.7', '2.5', '5.8', '1.8', 'Iris-virginica']\n",
            "['7.2', '3.6', '6.1', '2.5', 'Iris-virginica']\n",
            "['6.5', '3.2', '5.1', '2.0', 'Iris-virginica']\n",
            "['6.4', '2.7', '5.3', '1.9', 'Iris-virginica']\n",
            "['6.8', '3.0', '5.5', '2.1', 'Iris-virginica']\n",
            "['5.7', '2.5', '5.0', '2.0', 'Iris-virginica']\n",
            "['5.8', '2.8', '5.1', '2.4', 'Iris-virginica']\n",
            "['6.4', '3.2', '5.3', '2.3', 'Iris-virginica']\n",
            "['6.5', '3.0', '5.5', '1.8', 'Iris-virginica']\n",
            "['7.7', '3.8', '6.7', '2.2', 'Iris-virginica']\n",
            "['7.7', '2.6', '6.9', '2.3', 'Iris-virginica']\n",
            "['6.0', '2.2', '5.0', '1.5', 'Iris-virginica']\n",
            "['6.9', '3.2', '5.7', '2.3', 'Iris-virginica']\n",
            "['5.6', '2.8', '4.9', '2.0', 'Iris-virginica']\n",
            "['7.7', '2.8', '6.7', '2.0', 'Iris-virginica']\n",
            "['6.3', '2.7', '4.9', '1.8', 'Iris-virginica']\n",
            "['6.7', '3.3', '5.7', '2.1', 'Iris-virginica']\n",
            "['7.2', '3.2', '6.0', '1.8', 'Iris-virginica']\n",
            "['6.2', '2.8', '4.8', '1.8', 'Iris-virginica']\n",
            "['6.1', '3.0', '4.9', '1.8', 'Iris-virginica']\n",
            "['6.4', '2.8', '5.6', '2.1', 'Iris-virginica']\n",
            "['7.2', '3.0', '5.8', '1.6', 'Iris-virginica']\n",
            "['7.4', '2.8', '6.1', '1.9', 'Iris-virginica']\n",
            "['7.9', '3.8', '6.4', '2.0', 'Iris-virginica']\n",
            "['6.4', '2.8', '5.6', '2.2', 'Iris-virginica']\n",
            "['6.3', '2.8', '5.1', '1.5', 'Iris-virginica']\n",
            "['6.1', '2.6', '5.6', '1.4', 'Iris-virginica']\n",
            "['7.7', '3.0', '6.1', '2.3', 'Iris-virginica']\n",
            "['6.3', '3.4', '5.6', '2.4', 'Iris-virginica']\n",
            "['6.4', '3.1', '5.5', '1.8', 'Iris-virginica']\n",
            "['6.0', '3.0', '4.8', '1.8', 'Iris-virginica']\n",
            "['6.9', '3.1', '5.4', '2.1', 'Iris-virginica']\n",
            "['6.7', '3.1', '5.6', '2.4', 'Iris-virginica']\n",
            "['6.9', '3.1', '5.1', '2.3', 'Iris-virginica']\n",
            "['5.8', '2.7', '5.1', '1.9', 'Iris-virginica']\n",
            "['6.8', '3.2', '5.9', '2.3', 'Iris-virginica']\n",
            "['6.7', '3.3', '5.7', '2.5', 'Iris-virginica']\n",
            "['6.7', '3.0', '5.2', '2.3', 'Iris-virginica']\n",
            "['6.3', '2.5', '5.0', '1.9', 'Iris-virginica']\n",
            "['6.5', '3.0', '5.2', '2.0', 'Iris-virginica']\n",
            "['6.2', '3.4', '5.4', '2.3', 'Iris-virginica']\n",
            "['5.9', '3.0', '5.1', '1.8', 'Iris-virginica']\n",
            "[]\n"
          ]
        },
        {
          "output_type": "error",
          "ename": "Error",
          "evalue": "ignored",
          "traceback": [
            "\u001b[0;31m---------------------------------------------------------------------------\u001b[0m",
            "\u001b[0;31mError\u001b[0m                                     Traceback (most recent call last)",
            "\u001b[0;32m<ipython-input-34-5d8f4d13d819>\u001b[0m in \u001b[0;36m<module>\u001b[0;34m()\u001b[0m\n\u001b[1;32m     22\u001b[0m \u001b[0mmydictionary\u001b[0m\u001b[0;34m=\u001b[0m\u001b[0;34m{\u001b[0m\u001b[0mCol1\u001b[0m\u001b[0;34m:\u001b[0m\u001b[0;34m[\u001b[0m\u001b[0;34m]\u001b[0m\u001b[0;34m,\u001b[0m \u001b[0mCol2\u001b[0m\u001b[0;34m:\u001b[0m\u001b[0;34m[\u001b[0m\u001b[0;34m]\u001b[0m\u001b[0;34m,\u001b[0m \u001b[0mCol3\u001b[0m\u001b[0;34m:\u001b[0m\u001b[0;34m[\u001b[0m\u001b[0;34m]\u001b[0m\u001b[0;34m}\u001b[0m\u001b[0;34m\u001b[0m\u001b[0;34m\u001b[0m\u001b[0m\n\u001b[1;32m     23\u001b[0m \u001b[0mcsvFile\u001b[0m \u001b[0;34m=\u001b[0m \u001b[0mcsv\u001b[0m\u001b[0;34m.\u001b[0m\u001b[0mreader\u001b[0m\u001b[0;34m(\u001b[0m\u001b[0mopen\u001b[0m\u001b[0;34m(\u001b[0m\u001b[0;34m\"iris.data.csv\"\u001b[0m\u001b[0;34m,\u001b[0m \u001b[0;34m\"rb\"\u001b[0m\u001b[0;34m)\u001b[0m\u001b[0;34m)\u001b[0m\u001b[0;34m\u001b[0m\u001b[0;34m\u001b[0m\u001b[0m\n\u001b[0;32m---> 24\u001b[0;31m \u001b[0;32mfor\u001b[0m \u001b[0mrow\u001b[0m \u001b[0;32min\u001b[0m \u001b[0mcsvFile\u001b[0m\u001b[0;34m:\u001b[0m\u001b[0;34m\u001b[0m\u001b[0;34m\u001b[0m\u001b[0m\n\u001b[0m\u001b[1;32m     25\u001b[0m   \u001b[0mmydictionary\u001b[0m\u001b[0;34m[\u001b[0m\u001b[0mCol1\u001b[0m\u001b[0;34m]\u001b[0m\u001b[0;34m.\u001b[0m\u001b[0mappend\u001b[0m\u001b[0;34m(\u001b[0m\u001b[0mrow\u001b[0m\u001b[0;34m[\u001b[0m\u001b[0;36m0\u001b[0m\u001b[0;34m]\u001b[0m\u001b[0;34m)\u001b[0m\u001b[0;34m\u001b[0m\u001b[0;34m\u001b[0m\u001b[0m\n\u001b[1;32m     26\u001b[0m   \u001b[0mmydictionary\u001b[0m\u001b[0;34m[\u001b[0m\u001b[0mCol2\u001b[0m\u001b[0;34m]\u001b[0m\u001b[0;34m.\u001b[0m\u001b[0mappend\u001b[0m\u001b[0;34m(\u001b[0m\u001b[0mrow\u001b[0m\u001b[0;34m[\u001b[0m\u001b[0;36m1\u001b[0m\u001b[0;34m]\u001b[0m\u001b[0;34m)\u001b[0m\u001b[0;34m\u001b[0m\u001b[0;34m\u001b[0m\u001b[0m\n",
            "\u001b[0;31mError\u001b[0m: iterator should return strings, not bytes (did you open the file in text mode?)"
          ]
        }
      ]
    },
    {
      "cell_type": "markdown",
      "metadata": {
        "id": "AdHc2_efCS6d"
      },
      "source": [
        "Logistic Regression"
      ]
    },
    {
      "cell_type": "code",
      "metadata": {
        "colab": {
          "base_uri": "https://localhost:8080/",
          "height": 356
        },
        "id": "4Xj_XP5vCUxK",
        "outputId": "ab048c69-1106-4d84-b352-08772e7020ca"
      },
      "source": [
        "from sklearn.linear_model import LogisticRegression\n",
        "\n",
        "sigmoid = lambda y: 1/(1+math.exp(-y))\n",
        "classify = lambda y: 1 if y>0.5 else 0\n",
        "\n",
        "\n",
        "log_reg = LogisticRegression(random_state=42, solver='sag', penalty='none', max_iter=10000, fit_intercept=False)\n",
        "\n",
        "X = [(d[0], d[1], d[2]) for d,_ in ]\n",
        "Y = [y for _, y in ]\n",
        "\n",
        "log_reg.fit(X, Y)\n",
        "\n"
      ],
      "execution_count": 33,
      "outputs": [
        {
          "output_type": "error",
          "ename": "ValueError",
          "evalue": "ignored",
          "traceback": [
            "\u001b[0;31m---------------------------------------------------------------------------\u001b[0m",
            "\u001b[0;31mValueError\u001b[0m                                Traceback (most recent call last)",
            "\u001b[0;32m<ipython-input-33-1b75f27cfc3b>\u001b[0m in \u001b[0;36m<module>\u001b[0;34m()\u001b[0m\n\u001b[1;32m      7\u001b[0m \u001b[0mlog_reg\u001b[0m \u001b[0;34m=\u001b[0m \u001b[0mLogisticRegression\u001b[0m\u001b[0;34m(\u001b[0m\u001b[0mrandom_state\u001b[0m\u001b[0;34m=\u001b[0m\u001b[0;36m42\u001b[0m\u001b[0;34m,\u001b[0m \u001b[0msolver\u001b[0m\u001b[0;34m=\u001b[0m\u001b[0;34m'sag'\u001b[0m\u001b[0;34m,\u001b[0m \u001b[0mpenalty\u001b[0m\u001b[0;34m=\u001b[0m\u001b[0;34m'none'\u001b[0m\u001b[0;34m,\u001b[0m \u001b[0mmax_iter\u001b[0m\u001b[0;34m=\u001b[0m\u001b[0;36m10000\u001b[0m\u001b[0;34m,\u001b[0m \u001b[0mfit_intercept\u001b[0m\u001b[0;34m=\u001b[0m\u001b[0;32mFalse\u001b[0m\u001b[0;34m)\u001b[0m\u001b[0;34m\u001b[0m\u001b[0;34m\u001b[0m\u001b[0m\n\u001b[1;32m      8\u001b[0m \u001b[0;34m\u001b[0m\u001b[0m\n\u001b[0;32m----> 9\u001b[0;31m \u001b[0mX\u001b[0m \u001b[0;34m=\u001b[0m \u001b[0;34m[\u001b[0m\u001b[0;34m(\u001b[0m\u001b[0md\u001b[0m\u001b[0;34m[\u001b[0m\u001b[0;36m0\u001b[0m\u001b[0;34m]\u001b[0m\u001b[0;34m,\u001b[0m \u001b[0md\u001b[0m\u001b[0;34m[\u001b[0m\u001b[0;36m1\u001b[0m\u001b[0;34m]\u001b[0m\u001b[0;34m,\u001b[0m \u001b[0md\u001b[0m\u001b[0;34m[\u001b[0m\u001b[0;36m2\u001b[0m\u001b[0;34m]\u001b[0m\u001b[0;34m)\u001b[0m \u001b[0;32mfor\u001b[0m \u001b[0md\u001b[0m\u001b[0;34m,\u001b[0m\u001b[0m_\u001b[0m \u001b[0;32min\u001b[0m \u001b[0;34m'iris.data.csv'\u001b[0m\u001b[0;34m]\u001b[0m\u001b[0;34m\u001b[0m\u001b[0;34m\u001b[0m\u001b[0m\n\u001b[0m\u001b[1;32m     10\u001b[0m \u001b[0mY\u001b[0m \u001b[0;34m=\u001b[0m \u001b[0;34m[\u001b[0m\u001b[0my\u001b[0m \u001b[0;32mfor\u001b[0m \u001b[0m_\u001b[0m\u001b[0;34m,\u001b[0m \u001b[0my\u001b[0m \u001b[0;32min\u001b[0m \u001b[0;34m'iris.data.csv'\u001b[0m\u001b[0;34m]\u001b[0m\u001b[0;34m\u001b[0m\u001b[0;34m\u001b[0m\u001b[0m\n\u001b[1;32m     11\u001b[0m \u001b[0;34m\u001b[0m\u001b[0m\n",
            "\u001b[0;32m<ipython-input-33-1b75f27cfc3b>\u001b[0m in \u001b[0;36m<listcomp>\u001b[0;34m(.0)\u001b[0m\n\u001b[1;32m      7\u001b[0m \u001b[0mlog_reg\u001b[0m \u001b[0;34m=\u001b[0m \u001b[0mLogisticRegression\u001b[0m\u001b[0;34m(\u001b[0m\u001b[0mrandom_state\u001b[0m\u001b[0;34m=\u001b[0m\u001b[0;36m42\u001b[0m\u001b[0;34m,\u001b[0m \u001b[0msolver\u001b[0m\u001b[0;34m=\u001b[0m\u001b[0;34m'sag'\u001b[0m\u001b[0;34m,\u001b[0m \u001b[0mpenalty\u001b[0m\u001b[0;34m=\u001b[0m\u001b[0;34m'none'\u001b[0m\u001b[0;34m,\u001b[0m \u001b[0mmax_iter\u001b[0m\u001b[0;34m=\u001b[0m\u001b[0;36m10000\u001b[0m\u001b[0;34m,\u001b[0m \u001b[0mfit_intercept\u001b[0m\u001b[0;34m=\u001b[0m\u001b[0;32mFalse\u001b[0m\u001b[0;34m)\u001b[0m\u001b[0;34m\u001b[0m\u001b[0;34m\u001b[0m\u001b[0m\n\u001b[1;32m      8\u001b[0m \u001b[0;34m\u001b[0m\u001b[0m\n\u001b[0;32m----> 9\u001b[0;31m \u001b[0mX\u001b[0m \u001b[0;34m=\u001b[0m \u001b[0;34m[\u001b[0m\u001b[0;34m(\u001b[0m\u001b[0md\u001b[0m\u001b[0;34m[\u001b[0m\u001b[0;36m0\u001b[0m\u001b[0;34m]\u001b[0m\u001b[0;34m,\u001b[0m \u001b[0md\u001b[0m\u001b[0;34m[\u001b[0m\u001b[0;36m1\u001b[0m\u001b[0;34m]\u001b[0m\u001b[0;34m,\u001b[0m \u001b[0md\u001b[0m\u001b[0;34m[\u001b[0m\u001b[0;36m2\u001b[0m\u001b[0;34m]\u001b[0m\u001b[0;34m)\u001b[0m \u001b[0;32mfor\u001b[0m \u001b[0md\u001b[0m\u001b[0;34m,\u001b[0m\u001b[0m_\u001b[0m \u001b[0;32min\u001b[0m \u001b[0;34m'iris.data.csv'\u001b[0m\u001b[0;34m]\u001b[0m\u001b[0;34m\u001b[0m\u001b[0;34m\u001b[0m\u001b[0m\n\u001b[0m\u001b[1;32m     10\u001b[0m \u001b[0mY\u001b[0m \u001b[0;34m=\u001b[0m \u001b[0;34m[\u001b[0m\u001b[0my\u001b[0m \u001b[0;32mfor\u001b[0m \u001b[0m_\u001b[0m\u001b[0;34m,\u001b[0m \u001b[0my\u001b[0m \u001b[0;32min\u001b[0m \u001b[0;34m'iris.data.csv'\u001b[0m\u001b[0;34m]\u001b[0m\u001b[0;34m\u001b[0m\u001b[0;34m\u001b[0m\u001b[0m\n\u001b[1;32m     11\u001b[0m \u001b[0;34m\u001b[0m\u001b[0m\n",
            "\u001b[0;31mValueError\u001b[0m: not enough values to unpack (expected 2, got 1)"
          ]
        }
      ]
    }
  ]
}